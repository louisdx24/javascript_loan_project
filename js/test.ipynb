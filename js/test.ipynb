{
 "cells": [
  {
   "cell_type": "code",
   "execution_count": 1,
   "metadata": {},
   "outputs": [
    {
     "name": "stdout",
     "output_type": "stream",
     "text": [
      "hello world\n"
     ]
    }
   ],
   "source": [
    "print(\"hello world\")"
   ]
  },
  {
   "cell_type": "markdown",
   "metadata": {},
   "source": [
    "# 本金攤還計算方式"
   ]
  },
  {
   "cell_type": "code",
   "execution_count": 12,
   "metadata": {},
   "outputs": [],
   "source": [
    "amount=100000\n",
    "years=5\n",
    "rate=2"
   ]
  },
  {
   "cell_type": "code",
   "execution_count": 13,
   "metadata": {},
   "outputs": [],
   "source": [
    "# 固定本金\n",
    "period=years*12\n",
    "month_pay=int(amount/period)"
   ]
  },
  {
   "cell_type": "code",
   "execution_count": 14,
   "metadata": {},
   "outputs": [
    {
     "data": {
      "text/plain": [
       "0.0016666666666666668"
      ]
     },
     "execution_count": 14,
     "metadata": {},
     "output_type": "execute_result"
    }
   ],
   "source": [
    "# 第一個月利息\n",
    "month_rate=rate/100/12\n",
    "month_rate"
   ]
  },
  {
   "cell_type": "markdown",
   "metadata": {},
   "source": [
    "### 每個月還款利息"
   ]
  },
  {
   "cell_type": "code",
   "execution_count": 19,
   "metadata": {},
   "outputs": [
    {
     "data": {
      "text/plain": [
       "[[1, 1666, 167, 1833, 98334],\n",
       " [2, 1666, 164, 1830, 96668],\n",
       " [3, 1666, 161, 1827, 95002],\n",
       " [4, 1666, 158, 1824, 93336],\n",
       " [5, 1666, 156, 1822, 91670],\n",
       " [6, 1666, 153, 1819, 90004],\n",
       " [7, 1666, 150, 1816, 88338],\n",
       " [8, 1666, 147, 1813, 86672],\n",
       " [9, 1666, 144, 1810, 85006],\n",
       " [10, 1666, 142, 1808, 83340],\n",
       " [11, 1666, 139, 1805, 81674],\n",
       " [12, 1666, 136, 1802, 80008],\n",
       " [13, 1666, 133, 1799, 78342],\n",
       " [14, 1666, 131, 1797, 76676],\n",
       " [15, 1666, 128, 1794, 75010],\n",
       " [16, 1666, 125, 1791, 73344],\n",
       " [17, 1666, 122, 1788, 71678],\n",
       " [18, 1666, 119, 1785, 70012],\n",
       " [19, 1666, 117, 1783, 68346],\n",
       " [20, 1666, 114, 1780, 66680],\n",
       " [21, 1666, 111, 1777, 65014],\n",
       " [22, 1666, 108, 1774, 63348],\n",
       " [23, 1666, 106, 1772, 61682],\n",
       " [24, 1666, 103, 1769, 60016],\n",
       " [25, 1666, 100, 1766, 58350],\n",
       " [26, 1666, 97, 1763, 56684],\n",
       " [27, 1666, 94, 1760, 55018],\n",
       " [28, 1666, 92, 1758, 53352],\n",
       " [29, 1666, 89, 1755, 51686],\n",
       " [30, 1666, 86, 1752, 50020],\n",
       " [31, 1666, 83, 1749, 48354],\n",
       " [32, 1666, 81, 1747, 46688],\n",
       " [33, 1666, 78, 1744, 45022],\n",
       " [34, 1666, 75, 1741, 43356],\n",
       " [35, 1666, 72, 1738, 41690],\n",
       " [36, 1666, 69, 1735, 40024],\n",
       " [37, 1666, 67, 1733, 38358],\n",
       " [38, 1666, 64, 1730, 36692],\n",
       " [39, 1666, 61, 1727, 35026],\n",
       " [40, 1666, 58, 1724, 33360],\n",
       " [41, 1666, 56, 1722, 31694],\n",
       " [42, 1666, 53, 1719, 30028],\n",
       " [43, 1666, 50, 1716, 28362],\n",
       " [44, 1666, 47, 1713, 26696],\n",
       " [45, 1666, 44, 1710, 25030],\n",
       " [46, 1666, 42, 1708, 23364],\n",
       " [47, 1666, 39, 1705, 21698],\n",
       " [48, 1666, 36, 1702, 20032],\n",
       " [49, 1666, 33, 1699, 18366],\n",
       " [50, 1666, 31, 1697, 16700],\n",
       " [51, 1666, 28, 1694, 15034],\n",
       " [52, 1666, 25, 1691, 13368],\n",
       " [53, 1666, 22, 1688, 11702],\n",
       " [54, 1666, 20, 1686, 10036],\n",
       " [55, 1666, 17, 1683, 8370],\n",
       " [56, 1666, 14, 1680, 6704],\n",
       " [57, 1666, 11, 1677, 5038],\n",
       " [58, 1666, 8, 1674, 3372],\n",
       " [59, 1666, 6, 1672, 1706],\n",
       " [60, 1706, 3, 1669, 0]]"
      ]
     },
     "execution_count": 19,
     "metadata": {},
     "output_type": "execute_result"
    }
   ],
   "source": [
    "total_amount=100000\n",
    "amount=total_amount\n",
    "years=5\n",
    "rate=2\n",
    "period=years*12\n",
    "month_pay=int(amount/period)\n",
    "month_rate=rate/100/12\n",
    "\n",
    "data=[]\n",
    "totalInterest=0\n",
    "for i in range(period):\n",
    "    interest=round(amount*month_rate)\n",
    "    amount-=month_pay\n",
    "    if i == period-1:\n",
    "        data.append([i+1,month_pay+amount,interest,month_pay+interest,0])\n",
    "    else:\n",
    "        data.append([i+1,month_pay,interest,month_pay+interest,amount])\n",
    "    total_interest+=interest\n",
    "totalInterest\n",
    "data\n",
    "    "
   ]
  },
  {
   "cell_type": "code",
   "execution_count": null,
   "metadata": {},
   "outputs": [],
   "source": []
  }
 ],
 "metadata": {
  "kernelspec": {
   "display_name": "base",
   "language": "python",
   "name": "python3"
  },
  "language_info": {
   "codemirror_mode": {
    "name": "ipython",
    "version": 3
   },
   "file_extension": ".py",
   "mimetype": "text/x-python",
   "name": "python",
   "nbconvert_exporter": "python",
   "pygments_lexer": "ipython3",
   "version": "3.10.9"
  }
 },
 "nbformat": 4,
 "nbformat_minor": 2
}
